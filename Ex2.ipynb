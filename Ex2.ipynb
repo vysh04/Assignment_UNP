{
  "nbformat": 4,
  "nbformat_minor": 0,
  "metadata": {
    "kernelspec": {
      "display_name": "Python 3",
      "language": "python",
      "name": "python3"
    },
    "language_info": {
      "codemirror_mode": {
        "name": "ipython",
        "version": 3
      },
      "file_extension": ".py",
      "mimetype": "text/x-python",
      "name": "python",
      "nbconvert_exporter": "python",
      "pygments_lexer": "ipython3",
      "version": "3.7.3"
    },
    "learntools_metadata": {
      "lesson_index": 1,
      "type": "exercise"
    },
    "colab": {
      "name": "Ex2.ipynb",
      "provenance": [],
      "collapsed_sections": [],
      "include_colab_link": true
    }
  },
  "cells": [
    {
      "cell_type": "markdown",
      "metadata": {
        "id": "view-in-github",
        "colab_type": "text"
      },
      "source": [
        "<a href=\"https://colab.research.google.com/github/vysh04/Assignment_UNP/blob/main/Ex2.ipynb\" target=\"_parent\"><img src=\"https://colab.research.google.com/assets/colab-badge.svg\" alt=\"Open In Colab\"/></a>"
      ]
    },
    {
      "cell_type": "markdown",
      "metadata": {
        "id": "UO_A3Bh6afUi"
      },
      "source": [
        "Functions are powerful. Try writing some yourself.\n",
        "\n",
        "As before, don't forget to run the setup code below before jumping into question 1."
      ]
    },
    {
      "cell_type": "code",
      "metadata": {
        "_kg_hide-input": true,
        "_kg_hide-output": true,
        "colab": {
          "base_uri": "https://localhost:8080/"
        },
        "id": "scJsZswtafUl",
        "outputId": "b5a46ccd-00c3-48d1-b88e-5a0fb8edaa6b"
      },
      "source": [
        "# SETUP - Refer to Ex 1\n",
        "#from learntools.core import binder; binder.bind(globals())\n",
        "#from learntools.python.ex2 import *\n",
        "print('Setup complete.')"
      ],
      "execution_count": 13,
      "outputs": [
        {
          "output_type": "stream",
          "name": "stdout",
          "text": [
            "Setup complete.\n"
          ]
        }
      ]
    },
    {
      "cell_type": "markdown",
      "metadata": {
        "id": "d3Hc69oHafUn"
      },
      "source": [
        "# 1.\n",
        "\n",
        "Complete the body of the following function according to its docstring.\n",
        "\n",
        "HINT: Python has a built-in function `round`."
      ]
    },
    {
      "cell_type": "code",
      "metadata": {
        "id": "aFGps88UafUo"
      },
      "source": [
        "def round_to_two_places(num):\n",
        "    \"\"\"Return the given number rounded to two decimal places. \n",
        "    \n",
        "    >>> round_to_two_places(3.14159)\n",
        "    3.14\n",
        "    \"\"\"\n",
        "    \n",
        "    # Replace this body with your own code.\n",
        "    # (\"pass\" is a keyword that does literally nothing. We used it as a placeholder\n",
        "    # because after we begin a code block, Python requires at least one line of code)\n",
        "    return round(num,2)\n",
        "\n",
        "    q1.check()      \n",
        "          \n",
        "    "
      ],
      "execution_count": 82,
      "outputs": []
    },
    {
      "cell_type": "code",
      "metadata": {
        "id": "TfIT8BLrYBG4"
      },
      "source": [
        "# Uncomment the following for a hint\n",
        "#  q1.hint()\n",
        "# Or uncomment the following to peek at the solution\n",
        "#q1.solution()"
      ],
      "execution_count": 81,
      "outputs": []
    },
    {
      "cell_type": "markdown",
      "metadata": {
        "id": "bIB7Hp-ZafUo"
      },
      "source": [
        "# 2.\n",
        "The help for `round` says that `ndigits` (the second argument) may be negative.\n",
        "What do you think will happen when it is? Try some examples in the following cell."
      ]
    },
    {
      "cell_type": "code",
      "metadata": {
        "colab": {
          "base_uri": "https://localhost:8080/"
        },
        "id": "NOKrQdLzafUp",
        "outputId": "8544887f-e108-414b-ec3d-8db165983c9e"
      },
      "source": [
        "round(3.1512345,  -2)\n",
        "round(304.512345,  -2)"
      ],
      "execution_count": 36,
      "outputs": [
        {
          "output_type": "execute_result",
          "data": {
            "text/plain": [
              "300.0"
            ]
          },
          "metadata": {},
          "execution_count": 36
        }
      ]
    },
    {
      "cell_type": "markdown",
      "metadata": {
        "id": "ZxFwIg25afUp"
      },
      "source": [
        "Can you think of a case where this would be useful?  Once you're ready, run the code cell below to see the answer and to receive credit for completing the problem."
      ]
    },
    {
      "cell_type": "code",
      "metadata": {
        "id": "hmlVb6GhafUp"
      },
      "source": [
        "# Check your answer (Run this code cell to receive credit!)\n",
        "#q2.solution()"
      ],
      "execution_count": 41,
      "outputs": []
    },
    {
      "cell_type": "markdown",
      "metadata": {
        "id": "ntMh8UtfafUq"
      },
      "source": [
        "# 3.\n",
        "\n",
        "In the previous exercise, the candy-sharing friends Alice, Bob and Carol tried to split candies evenly. For the sake of their friendship, any candies left over would be smashed. For example, if they collectively bring home 91 candies, they'll take 30 each and smash 1.\n",
        "\n",
        "Below is a simple function that will calculate the number of candies to smash for *any* number of total candies.\n",
        "\n",
        "Modify it so that it optionally takes a second argument representing the number of friends the candies are being split between. If no second argument is provided, it should assume 3 friends, as before.\n",
        "\n",
        "Update the docstring to reflect this new behaviour."
      ]
    },
    {
      "cell_type": "code",
      "metadata": {
        "id": "DfNOyaCDafUq"
      },
      "source": [
        "def to_smash(total_candies):\n",
        "    \"\"\"Return the number of leftover candies that must be smashed after distributing\n",
        "    the given number of candies evenly between 3 friends.\n",
        "    \n",
        "    >>> to_smash(91)\n",
        "    1\n",
        "    \"\"\"    \n",
        "    return total_candies % 3\n",
        "\n",
        "# Check your answer\n",
        "def to_smash (total_candies, n_friends=3):\n",
        "   return total_candies % n_friends\n",
        "   q3.check() "
      ],
      "execution_count": 102,
      "outputs": []
    },
    {
      "cell_type": "markdown",
      "metadata": {
        "id": "tTTOrve4afUr"
      },
      "source": [
        "# 4. (Optional)\n",
        "\n",
        "It may not be fun, but reading and understanding error messages will be an important part of your Python career.\n",
        "\n",
        "Each code cell below contains some commented buggy code. For each cell...\n",
        "\n",
        "1. Read the code and predict what you think will happen when it's run.\n",
        "2. Then uncomment the code and run it to see what happens. (**Tip**: In the kernel editor, you can highlight several lines and press `ctrl`+`/` to toggle commenting.)\n",
        "3. Fix the code (so that it accomplishes its intended purpose without throwing an exception)\n",
        "\n",
        "<!-- TODO: should this be autochecked? Delta is probably pretty small. -->"
      ]
    },
    {
      "cell_type": "code",
      "metadata": {
        "id": "yP7eMmnCafUs",
        "colab": {
          "base_uri": "https://localhost:8080/"
        },
        "outputId": "9c0c3e5f-3583-44e9-ecdf-8abdd5f95546"
      },
      "source": [
        "round_to_two_places(9.9999)"
      ],
      "execution_count": 16,
      "outputs": [
        {
          "output_type": "execute_result",
          "data": {
            "text/plain": [
              "10.0"
            ]
          },
          "metadata": {},
          "execution_count": 16
        }
      ]
    },
    {
      "cell_type": "code",
      "metadata": {
        "id": "E7cxsF7UafUs",
        "colab": {
          "base_uri": "https://localhost:8080/"
        },
        "outputId": "3d672987-c4f5-42e3-9bea-c24daf300a0d"
      },
      "source": [
        " x = -10\n",
        " y = 5\n",
        "# # Which of the two variables above has the smallest absolute value?\n",
        "smallest_abs = min(abs(x),abs(y) )\n",
        "print (smallest_abs)"
      ],
      "execution_count": 17,
      "outputs": [
        {
          "output_type": "stream",
          "name": "stdout",
          "text": [
            "5\n"
          ]
        }
      ]
    },
    {
      "cell_type": "code",
      "metadata": {
        "id": "t5jVWrQXafUt",
        "colab": {
          "base_uri": "https://localhost:8080/"
        },
        "outputId": "324c4174-71eb-4b91-febf-dc2706d6407d"
      },
      "source": [
        "def f(x):\n",
        "    y = abs(x)\n",
        "    return y\n",
        "\n",
        "print(f(5))\n"
      ],
      "execution_count": 18,
      "outputs": [
        {
          "output_type": "stream",
          "name": "stdout",
          "text": [
            "5\n"
          ]
        }
      ]
    }
  ]
}